{
 "cells": [
  {
   "cell_type": "code",
   "execution_count": 17,
   "metadata": {},
   "outputs": [
    {
     "name": "stdout",
     "output_type": "stream",
     "text": [
      "The number rolled is 4\n"
     ]
    }
   ],
   "source": [
    "from random import random\n",
    "def rollDie():\n",
    "    return int(random() * 6) + 1\n",
    "print('The number rolled is' ,rollDie())\n",
    "\n",
    "# random() => float random value from 0 - 1\n"
   ]
  },
  {
   "cell_type": "code",
   "execution_count": 36,
   "metadata": {},
   "outputs": [
    {
     "name": "stdout",
     "output_type": "stream",
     "text": [
      "The number rolled is 3\n"
     ]
    }
   ],
   "source": [
    "from random import uniform\n",
    "def rollDie():\n",
    "    return int(uniform(1,7))\n",
    "print('The number rolled is' ,rollDie())\n",
    "\n",
    "# randint() => int random from  a to"
   ]
  },
  {
   "cell_type": "code",
   "execution_count": null,
   "metadata": {},
   "outputs": [],
   "source": [
    "from random import randint\n",
    "def rollDie():\n",
    "    return (randint(1,6))\n",
    "print('The number rolled is' , rollDie())\n"
   ]
  },
  {
   "cell_type": "code",
   "execution_count": 182,
   "metadata": {},
   "outputs": [
    {
     "name": "stdout",
     "output_type": "stream",
     "text": [
      "\n",
      "a:  [3 3 4 6 5 4 4 4 5 5 5 3 1 4 5 3 2 4 3 2]\n",
      "\n",
      "\n",
      "b:  [4.11194839 4.39132259 3.41335046 5.25228755 4.81336236 2.8617398\n",
      " 4.68040171 3.43135243 4.46765855 2.68968474 4.4351448  6.31054926\n",
      " 6.63605774 1.36200067 2.8006346  6.89516007 5.73546598 1.47043777\n",
      " 6.82792228 1.82979558]\n",
      "\n",
      "\n",
      "c:  [0.17660956 0.33920448 0.46483484 0.5641088  0.46021705 0.90385193\n",
      " 0.28949816 0.6943708  0.26122918 0.40554448 0.16495511 0.31322901\n",
      " 0.89084087 0.77912791 0.59469191 0.79356059 0.91275796 0.72042234\n",
      " 0.00784607 0.28527063]\n"
     ]
    }
   ],
   "source": [
    "import numpy\n",
    "a = numpy.random.randint(1,7,20)\n",
    "print(\"\\na: \",a)\n",
    "\n",
    "b = numpy.random.uniform(1,7,20)\n",
    "print(\"\\n\\nb: \",b)\n",
    "\n",
    "c= numpy.random.random(20)\n",
    "print(\"\\n\\nc: \",c)"
   ]
  },
  {
   "cell_type": "code",
   "execution_count": 225,
   "metadata": {},
   "outputs": [
    {
     "name": "stdout",
     "output_type": "stream",
     "text": [
      "90\n",
      "N\n",
      "u\n"
     ]
    }
   ],
   "source": [
    "from random import randint\n",
    "print(randint(ord('J'), ord('Z')))\n",
    "print(chr(randint(ord('A'), ord('Z'))))\n",
    "print(chr(randint(ord('a'), ord('z'))))"
   ]
  }
 ],
 "metadata": {
  "kernelspec": {
   "display_name": "Python 3 (ipykernel)",
   "language": "python",
   "name": "python3"
  },
  "language_info": {
   "codemirror_mode": {
    "name": "ipython",
    "version": 3
   },
   "file_extension": ".py",
   "mimetype": "text/x-python",
   "name": "python",
   "nbconvert_exporter": "python",
   "pygments_lexer": "ipython3",
   "version": "3.11.0"
  }
 },
 "nbformat": 4,
 "nbformat_minor": 4
}
