{
 "cells": [
  {
   "cell_type": "code",
   "execution_count": 15,
   "metadata": {},
   "outputs": [
    {
     "name": "stdout",
     "output_type": "stream",
     "text": [
      "Hello World!\n",
      "Hello World!\n",
      "I'm hungry!\n",
      "He said: \"Here I am\"\n",
      "x\tx^2\tx^3\n",
      "Hello\n",
      "Word\n"
     ]
    }
   ],
   "source": [
    "print('Hello World!')\n",
    "print(\"Hello World!\")\n",
    "print('I\\'m hungry!')\n",
    "print(\"He said: \\\"Here I am\\\"\") \n",
    "# In order for \" (double quote) to appear in a string literal the literal must be enclosed\n",
    "#by ' (single quote) as shown below\n",
    "\n",
    "print('x\\tx^2\\tx^3')\n",
    "#other commonly used escape sequences are \\t for tab\n",
    "print('Hello\\nWord') #\\n for new line"
   ]
  },
  {
   "cell_type": "code",
   "execution_count": 17,
   "metadata": {},
   "outputs": [
    {
     "name": "stdout",
     "output_type": "stream",
     "text": [
      "16\n",
      "10\n",
      "1.3333333333333333\n",
      "1\n",
      "3\n"
     ]
    }
   ],
   "source": [
    "print(2**4)\n",
    "print(2*5)\n",
    "print(12/9)\n",
    "print(12//9)\n",
    "print(12%9)"
   ]
  },
  {
   "cell_type": "code",
   "execution_count": 40,
   "metadata": {},
   "outputs": [
    {
     "name": "stdout",
     "output_type": "stream",
     "text": [
      "Add: 13\n",
      "Sub: 7\n",
      "Mul: 30\n",
      "Power: 1000\n",
      "Div: 3.3333333333333335\n",
      "Intdiv: 3\n"
     ]
    }
   ],
   "source": [
    "a = 10\n",
    "b = 3\n",
    "\n",
    "add=a+b\n",
    "sub=a-b\n",
    "mul=a*b\n",
    "power=a**b\n",
    "div=a/b\n",
    "intdiv=a//b\n",
    "\n",
    "print(\"Add:\",add)\n",
    "print(\"Sub:\",sub)\n",
    "print(\"Mul:\",mul)\n",
    "print(\"Power:\",power)\n",
    "print(\"Div:\",div)\n",
    "print(\"Intdiv:\",intdiv)"
   ]
  },
  {
   "cell_type": "code",
   "execution_count": 41,
   "metadata": {},
   "outputs": [
    {
     "name": "stdout",
     "output_type": "stream",
     "text": [
      "12.56636\n",
      "12.56636\n"
     ]
    }
   ],
   "source": [
    "PI = 3.14159\n",
    "radius = 2\n",
    "print(PI * radius**2)\n",
    "\n",
    "area = PI * radius**2\n",
    "print(area)"
   ]
  },
  {
   "cell_type": "code",
   "execution_count": 42,
   "metadata": {},
   "outputs": [
    {
     "name": "stdout",
     "output_type": "stream",
     "text": [
      "3.0\n",
      "1\n"
     ]
    }
   ],
   "source": [
    "print(10/2*3//4)\n",
    "print(10*2**3//4**3)"
   ]
  },
  {
   "cell_type": "code",
   "execution_count": 43,
   "metadata": {},
   "outputs": [
    {
     "name": "stdout",
     "output_type": "stream",
     "text": [
      "5.0\n",
      "5.333333333333333\n"
     ]
    }
   ],
   "source": [
    "#If I have $4.00 in cash and a bag of chips costs 75 cents ($0.75),how many bags of chips\n",
    "#can I buy and how much money will I have left over?\n",
    "\n",
    "\n",
    "Cash = 4.0\n",
    "Chips = 0.75\n",
    "Bags = Cash // Chips\n",
    "print(Bags)\n",
    "\n",
    "leftOver = Cash / Chips\n",
    "print(leftOver)"
   ]
  },
  {
   "cell_type": "code",
   "execution_count": null,
   "metadata": {},
   "outputs": [],
   "source": []
  },
  {
   "cell_type": "code",
   "execution_count": 47,
   "metadata": {},
   "outputs": [
    {
     "name": "stdout",
     "output_type": "stream",
     "text": [
      "Fahrenheit 69.76400000000001\n",
      "Fahrenheit 69.76\n",
      "Fahrenheit 69.7640\n",
      "Fahrenheit 69\n",
      "Fahrenheit 6.97640e+01\n"
     ]
    }
   ],
   "source": [
    "Celcius = 20.98\n",
    "fahrenheit = (9/5)*Celcius+32\n",
    "print(\"Fahrenheit\",fahrenheit)\n",
    "print(\"Fahrenheit %.2f\"%fahrenheit)\n",
    "print(\"Fahrenheit %6.4f\"%fahrenheit)\n",
    "print(\"Fahrenheit %d\"%fahrenheit) # INTEGER\n",
    "print(\"Fahrenheit %.5e\"%fahrenheit) # Floating point with exponent"
   ]
  },
  {
   "cell_type": "code",
   "execution_count": 4,
   "metadata": {},
   "outputs": [
    {
     "name": "stdout",
     "output_type": "stream",
     "text": [
      "My name is Ab\n",
      "My name is 'Abolfazl'\n"
     ]
    }
   ],
   "source": [
    "myname = \"Abolfazl\"\n",
    "print(\"My name is %.2s\"%myname)#string format using repr()\n",
    "print(\"My name is %r\"%myname)"
   ]
  },
  {
   "cell_type": "code",
   "execution_count": 6,
   "metadata": {},
   "outputs": [
    {
     "name": "stdout",
     "output_type": "stream",
     "text": [
      "Enter your age:33\n",
      "33\n",
      "<class 'int'>\n"
     ]
    }
   ],
   "source": [
    "a = int(input(\"Enter your age:\"))\n",
    "print(a)\n",
    "print(type(a))"
   ]
  },
  {
   "cell_type": "code",
   "execution_count": 7,
   "metadata": {},
   "outputs": [
    {
     "name": "stdout",
     "output_type": "stream",
     "text": [
      "0.9974949866040544\n"
     ]
    }
   ],
   "source": [
    "import math\n",
    "a = math.sin(1.5)\n",
    "print(a)"
   ]
  },
  {
   "cell_type": "code",
   "execution_count": 8,
   "metadata": {},
   "outputs": [
    {
     "name": "stdout",
     "output_type": "stream",
     "text": [
      "0.9974949866040544\n"
     ]
    }
   ],
   "source": [
    "import math as m\n",
    "a=m.sin(1.5)\n",
    "print(a)"
   ]
  },
  {
   "cell_type": "code",
   "execution_count": 12,
   "metadata": {},
   "outputs": [
    {
     "name": "stdout",
     "output_type": "stream",
     "text": [
      "a:  1.0\n",
      "b:  -1.0\n",
      "c:  54.598150033144236\n",
      "d:  2.0\n"
     ]
    }
   ],
   "source": [
    "from math import pi,sin,cos,tan,exp,sqrt\n",
    "a=sin(pi/2)\n",
    "b=cos(pi)\n",
    "c=exp(4)\n",
    "d=sqrt(4)\n",
    "print(\"a: \",a)\n",
    "print(\"b: \",b)\n",
    "print(\"c: \",c)\n",
    "print(\"d: \",d)"
   ]
  },
  {
   "cell_type": "code",
   "execution_count": 10,
   "metadata": {},
   "outputs": [
    {
     "name": "stdout",
     "output_type": "stream",
     "text": [
      "10\n",
      "4\n"
     ]
    }
   ],
   "source": [
    "a = -10\n",
    "print(abs(a))\n",
    "b=4\n",
    "print(max(a,b))"
   ]
  },
  {
   "cell_type": "code",
   "execution_count": 11,
   "metadata": {},
   "outputs": [
    {
     "name": "stdout",
     "output_type": "stream",
     "text": [
      "MAX:  10\n",
      "MIN:  4\n",
      "ABS:  10\n"
     ]
    }
   ],
   "source": [
    "a = 10\n",
    "b = 4\n",
    "\n",
    "print(\"MAX: \", max(a,b))\n",
    "print(\"MIN: \",min(a,b))\n",
    "print(\"ABS: \",abs(a))\n"
   ]
  },
  {
   "cell_type": "code",
   "execution_count": null,
   "metadata": {},
   "outputs": [],
   "source": []
  }
 ],
 "metadata": {
  "kernelspec": {
   "display_name": "Python 3 (ipykernel)",
   "language": "python",
   "name": "python3"
  },
  "language_info": {
   "codemirror_mode": {
    "name": "ipython",
    "version": 3
   },
   "file_extension": ".py",
   "mimetype": "text/x-python",
   "name": "python",
   "nbconvert_exporter": "python",
   "pygments_lexer": "ipython3",
   "version": "3.11.0"
  }
 },
 "nbformat": 4,
 "nbformat_minor": 2
}
