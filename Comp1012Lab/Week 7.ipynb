{
 "cells": [
  {
   "cell_type": "code",
   "execution_count": 5,
   "metadata": {},
   "outputs": [
    {
     "name": "stdout",
     "output_type": "stream",
     "text": [
      "[2, 4, 6, 8, 3, 5, 7, 9]\n"
     ]
    }
   ],
   "source": [
    "a = [2,4,6,8]\n",
    "b = [3,5,7,9]\n",
    "add = a + b\n",
    "sub = a - b\n",
    "mul = a * b\n",
    "print(mul)"
   ]
  },
  {
   "cell_type": "code",
   "execution_count": 19,
   "metadata": {},
   "outputs": [
    {
     "name": "stdout",
     "output_type": "stream",
     "text": [
      "add:  [ 5  9 13 17]\n",
      "sub:  [-1 -1 -1 -1]\n",
      "mul:  [ 6 20 42 72]\n",
      "div:  [0.66666667 0.8        0.85714286 0.88888889]\n",
      "rem:  [2 4 6 8]\n"
     ]
    }
   ],
   "source": [
    "import numpy as np\n",
    "a = np.array([2,4,6,8])\n",
    "b = np.array([3,5,7,9])\n",
    "\n",
    "add = a+b\n",
    "sub = a-b\n",
    "mul = a*b\n",
    "div = a/b\n",
    "rem = a%b\n",
    "print(\"add: \",add)\n",
    "print(\"sub: \",sub)\n",
    "print(\"mul: \",mul)\n",
    "print(\"div: \",div)\n",
    "print(\"rem: \",rem)"
   ]
  },
  {
   "cell_type": "code",
   "execution_count": 23,
   "metadata": {},
   "outputs": [
    {
     "data": {
      "text/plain": [
       "array([ 0,  1,  2,  3,  4,  5,  6,  7,  8,  9, 10])"
      ]
     },
     "execution_count": 23,
     "metadata": {},
     "output_type": "execute_result"
    }
   ],
   "source": [
    "np.array(range(11))\n"
   ]
  },
  {
   "cell_type": "code",
   "execution_count": 24,
   "metadata": {},
   "outputs": [
    {
     "data": {
      "text/plain": [
       "array([ 0,  1,  2,  3,  4,  5,  6,  7,  8,  9, 10])"
      ]
     },
     "execution_count": 24,
     "metadata": {},
     "output_type": "execute_result"
    }
   ],
   "source": [
    "np.arange(11)\n"
   ]
  },
  {
   "cell_type": "code",
   "execution_count": 25,
   "metadata": {},
   "outputs": [
    {
     "data": {
      "text/plain": [
       "array([ 2,  3,  4,  5,  6,  7,  8,  9, 10])"
      ]
     },
     "execution_count": 25,
     "metadata": {},
     "output_type": "execute_result"
    }
   ],
   "source": [
    "np.arange(2,11)"
   ]
  },
  {
   "cell_type": "code",
   "execution_count": 27,
   "metadata": {},
   "outputs": [
    {
     "name": "stdout",
     "output_type": "stream",
     "text": [
      "[ 0.90929743 -0.7568025  -0.2794155   0.98935825]\n"
     ]
    }
   ],
   "source": [
    "from math import pi\n",
    "import numpy as np\n",
    "a = np.array([2,4,6,8])\n",
    "b = np.array([3,5,7,9])\n",
    "p = np.sin(a)\n",
    "print(p)"
   ]
  },
  {
   "cell_type": "code",
   "execution_count": 28,
   "metadata": {},
   "outputs": [
    {
     "name": "stdout",
     "output_type": "stream",
     "text": [
      "lenght:  12\n",
      "[ 1.  2.  3.  4.  5.  6.  7.  8.  9. 10. 11. 12.]\n"
     ]
    }
   ],
   "source": [
    "import numpy as np\n",
    "a = np.linspace(1,12,12)\n",
    "print(\"lenght: \", len(a))\n",
    "print(a)\n",
    "print(a[5])"
   ]
  },
  {
   "cell_type": "code",
   "execution_count": 38,
   "metadata": {},
   "outputs": [
    {
     "name": "stdout",
     "output_type": "stream",
     "text": [
      "0 2\n",
      "1 4\n",
      "2 6\n",
      "3 8\n"
     ]
    }
   ],
   "source": [
    "import numpy as np\n",
    "a = np.array([2,4,6,8])\n",
    "for index, element in enumerate(a):\n",
    "    print(index, element)"
   ]
  },
  {
   "cell_type": "code",
   "execution_count": 42,
   "metadata": {},
   "outputs": [
    {
     "name": "stdout",
     "output_type": "stream",
     "text": [
      "ggoooodd"
     ]
    }
   ],
   "source": [
    "for ch in 'good':\n",
    "    print(ch*2, end='')"
   ]
  }
 ],
 "metadata": {
  "kernelspec": {
   "display_name": "Python 3 (ipykernel)",
   "language": "python",
   "name": "python3"
  },
  "language_info": {
   "codemirror_mode": {
    "name": "ipython",
    "version": 3
   },
   "file_extension": ".py",
   "mimetype": "text/x-python",
   "name": "python",
   "nbconvert_exporter": "python",
   "pygments_lexer": "ipython3",
   "version": "3.11.0"
  }
 },
 "nbformat": 4,
 "nbformat_minor": 4
}
