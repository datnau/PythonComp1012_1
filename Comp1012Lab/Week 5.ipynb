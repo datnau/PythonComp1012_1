{
 "cells": [
  {
   "cell_type": "code",
   "execution_count": 11,
   "metadata": {},
   "outputs": [
    {
     "name": "stdout",
     "output_type": "stream",
     "text": [
      "Welcome\n"
     ]
    },
    {
     "ename": "NameError",
     "evalue": "name 'C' is not defined",
     "output_type": "error",
     "traceback": [
      "\u001b[0;31m---------------------------------------------------------------------------\u001b[0m",
      "\u001b[0;31mNameError\u001b[0m                                 Traceback (most recent call last)",
      "Cell \u001b[0;32mIn [11], line 5\u001b[0m\n\u001b[1;32m      3\u001b[0m     \u001b[38;5;28;01mreturn\u001b[39;00m\n\u001b[1;32m      4\u001b[0m c\u001b[38;5;241m=\u001b[39mgreeting()\n\u001b[0;32m----> 5\u001b[0m d\u001b[38;5;241m=\u001b[39m\u001b[43mC\u001b[49m\u001b[38;5;241m*\u001b[39m\u001b[38;5;241m*\u001b[39m\u001b[38;5;241m2\u001b[39m\n",
      "\u001b[0;31mNameError\u001b[0m: name 'C' is not defined"
     ]
    }
   ],
   "source": [
    "def greeting():\n",
    "    print(\"Welcome\")\n",
    "    return \n",
    "c=greeting()\n",
    "d=C**2"
   ]
  },
  {
   "cell_type": "code",
   "execution_count": 9,
   "metadata": {},
   "outputs": [
    {
     "name": "stdout",
     "output_type": "stream",
     "text": [
      "9.0\n"
     ]
    }
   ],
   "source": [
    "def average(a,b):\n",
    "    total = a+b\n",
    "    Average = (a+b)/2\n",
    "    return Average\n",
    " \n",
    "b = average(4,2)\n",
    "x = b**2\n",
    "print(x)"
   ]
  },
  {
   "cell_type": "code",
   "execution_count": 12,
   "metadata": {},
   "outputs": [
    {
     "name": "stdout",
     "output_type": "stream",
     "text": [
      "ICM\n"
     ]
    },
    {
     "data": {
      "text/plain": [
       "NoneType"
      ]
     },
     "execution_count": 12,
     "metadata": {},
     "output_type": "execute_result"
    }
   ],
   "source": [
    "type(print(\"ICM\"))"
   ]
  },
  {
   "cell_type": "code",
   "execution_count": 13,
   "metadata": {},
   "outputs": [
    {
     "name": "stdout",
     "output_type": "stream",
     "text": [
      "15\n"
     ]
    }
   ],
   "source": [
    "#f(x) = ax^2 + bx + c\n",
    "def fx(a,b,c,x):\n",
    "    \n",
    "    f = a*x**2 + b*x + c\n",
    "    return f\n",
    "print(fx(2,10,3,1))"
   ]
  },
  {
   "cell_type": "code",
   "execution_count": 16,
   "metadata": {},
   "outputs": [
    {
     "name": "stdout",
     "output_type": "stream",
     "text": [
      "a:  4\n",
      "b:  100\n",
      "345\n"
     ]
    }
   ],
   "source": [
    "#f(x) = ax^2 + bx + c\n",
    "def evalquadratic(a,b,c,x):\n",
    "    print(\"a: \",a)\n",
    "    print(\"b: \",b)\n",
    "    fx = a*x**2 + b*x + c\n",
    "    return fx\n",
    "a = 2\n",
    "b = 10\n",
    "c = 3\n",
    "x = 1\n",
    "print(evalquadratic(a*2,b**2,c*3,x+2))"
   ]
  },
  {
   "cell_type": "code",
   "execution_count": 30,
   "metadata": {},
   "outputs": [
    {
     "name": "stdout",
     "output_type": "stream",
     "text": [
      "a:  4\n",
      "b:  12\n",
      "c:  2\n",
      "x:  4\n",
      "114\n"
     ]
    }
   ],
   "source": [
    "\n",
    "#f(x) = ax^2 + bx + c\n",
    "def evalquadratic(a,b,c,x):\n",
    "\n",
    "    print(\"a: \",a)\n",
    "    print(\"b: \",b)\n",
    "    print(\"c: \",c)\n",
    "    print(\"x: \",x)\n",
    "    fx = a*x**2 + b*x + c\n",
    "    return fx\n",
    "\n",
    "print(evalquadratic(4,c=2,x=4,b=12))\n",
    "# 4 is the first position value\n",
    "# c = 2 is not the position value, it's a key\n"
   ]
  },
  {
   "cell_type": "code",
   "execution_count": 22,
   "metadata": {},
   "outputs": [
    {
     "name": "stdout",
     "output_type": "stream",
     "text": [
      "[10, 4, -5]\n"
     ]
    }
   ],
   "source": [
    "def sortedlist(mylist):\n",
    "    mylist.sort()\n",
    "    mylist.reverse()\n",
    "    return mylist\n",
    "\n",
    "a = 10 \n",
    "b = -5\n",
    "c = 4\n",
    "\n",
    "sortedlist([a,b,c]) \n",
    "print(sortedlist([a,b,c]))"
   ]
  },
  {
   "cell_type": "code",
   "execution_count": 1,
   "metadata": {},
   "outputs": [
    {
     "ename": "TypeError",
     "evalue": "'<=' not supported between instances of 'int' and 'builtin_function_or_method'",
     "output_type": "error",
     "traceback": [
      "\u001b[0;31m---------------------------------------------------------------------------\u001b[0m",
      "\u001b[0;31mTypeError\u001b[0m                                 Traceback (most recent call last)",
      "Cell \u001b[0;32mIn [1], line 8\u001b[0m\n\u001b[1;32m      6\u001b[0m         \u001b[38;5;28;01mreturn\u001b[39;00m sin(x)\n\u001b[1;32m      7\u001b[0m     \u001b[38;5;28;01mreturn\u001b[39;00m(result)\n\u001b[0;32m----> 8\u001b[0m \u001b[38;5;28mprint\u001b[39m(\u001b[43mf\u001b[49m\u001b[43m(\u001b[49m\u001b[43msin\u001b[49m\u001b[43m)\u001b[49m)\n",
      "Cell \u001b[0;32mIn [1], line 5\u001b[0m, in \u001b[0;36mf\u001b[0;34m(x)\u001b[0m\n\u001b[1;32m      3\u001b[0m \u001b[38;5;28;01mdef\u001b[39;00m \u001b[38;5;21mf\u001b[39m(x):\n\u001b[1;32m      4\u001b[0m     result \u001b[38;5;241m=\u001b[39m \u001b[38;5;241m0.0\u001b[39m\n\u001b[0;32m----> 5\u001b[0m     \u001b[38;5;28;01mif\u001b[39;00m \u001b[38;5;241;43m0\u001b[39;49m\u001b[43m \u001b[49m\u001b[38;5;241;43m<\u001b[39;49m\u001b[38;5;241;43m=\u001b[39;49m\u001b[43m \u001b[49m\u001b[43mx\u001b[49m\u001b[43m \u001b[49m\u001b[38;5;241;43m<\u001b[39;49m\u001b[38;5;241;43m=\u001b[39;49m\u001b[43m \u001b[49m\u001b[43mpi\u001b[49m\u001b[38;5;241;43m/\u001b[39;49m\u001b[38;5;241;43m2\u001b[39;49m:\n\u001b[1;32m      6\u001b[0m         \u001b[38;5;28;01mreturn\u001b[39;00m sin(x)\n\u001b[1;32m      7\u001b[0m     \u001b[38;5;28;01mreturn\u001b[39;00m(result)\n",
      "\u001b[0;31mTypeError\u001b[0m: '<=' not supported between instances of 'int' and 'builtin_function_or_method'"
     ]
    }
   ],
   "source": [
    "from math import pi,sin\n",
    "\n",
    "def f(x):\n",
    "    result = 0.0\n",
    "    if 0 <= x <= pi/2:\n",
    "        return sin(x)\n",
    "    return(result)\n",
    "print(f(sin))"
   ]
  },
  {
   "cell_type": "code",
   "execution_count": 7,
   "metadata": {},
   "outputs": [
    {
     "name": "stdout",
     "output_type": "stream",
     "text": [
      "2\n"
     ]
    }
   ],
   "source": [
    "def fx(x): # elif1.py\n",
    "    if x < -10:\n",
    "        result = 0\n",
    "    elif -10 <= x < 0:\n",
    "        result = -x\n",
    "    elif 0<= x <= 10:\n",
    "        result = x\n",
    "    else:\n",
    "        result = 0\n",
    "    return(result)\n",
    "\n",
    "print(fx(2))"
   ]
  },
  {
   "cell_type": "code",
   "execution_count": null,
   "metadata": {},
   "outputs": [],
   "source": []
  }
 ],
 "metadata": {
  "kernelspec": {
   "display_name": "Python 3 (ipykernel)",
   "language": "python",
   "name": "python3"
  },
  "language_info": {
   "codemirror_mode": {
    "name": "ipython",
    "version": 3
   },
   "file_extension": ".py",
   "mimetype": "text/x-python",
   "name": "python",
   "nbconvert_exporter": "python",
   "pygments_lexer": "ipython3",
   "version": "3.11.0"
  }
 },
 "nbformat": 4,
 "nbformat_minor": 2
}
