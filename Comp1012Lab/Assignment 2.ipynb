{
 "cells": [
  {
   "cell_type": "code",
   "execution_count": null,
   "metadata": {},
   "outputs": [],
   "source": [
    "#ThanhDatNguyenA1Q1.py\n",
    "#\n",
    "# Course: COMP 1012\n",
    "# Instructor: Abolfazl Babaei\n",
    "# Assignment: 1 Question 1\n",
    "# Author: Thanh Dat Nguyen\n",
    "#  Version: 2023/10/14\n",
    "#\n",
    "# Purpose: calculate the GCD and the LCM\n",
    "#\n",
    "# var1 - the use / meaning of each variable in the program\n",
    "\n",
    "from time import ctime\n",
    "print('\\n--------------------------------------------------\\n')\n",
    "\n",
    "def getNonNegativeInt(prompt):\n",
    "    while True:\n",
    "        number = input(prompt).strip()\n",
    "        if number != '':\n",
    "            try:\n",
    "                number = eval(number,{},{})\n",
    "            except:\n",
    "                print('Invalid input!')\n",
    "            else:\n",
    "                if type(number) is int:\n",
    "                    if number >= 0:\n",
    "                        break\n",
    "                    else:\n",
    "                    print(number,'must not be negative')\n",
    "                else:\n",
    "                print(number , 'must be an integer!')\n",
    "       else:\n",
    "          print('Missing input!')\n",
    "return number\n",
    "\n",
    "def computeXcoordinates(width,intervals):\n",
    "    xCoords = []\n",
    "\n",
    "def displayTerminationMessage():\n",
    "    \n",
    "                "
   ]
  }
 ],
 "metadata": {
  "kernelspec": {
   "display_name": "Python 3 (ipykernel)",
   "language": "python",
   "name": "python3"
  },
  "language_info": {
   "codemirror_mode": {
    "name": "ipython",
    "version": 3
   },
   "file_extension": ".py",
   "mimetype": "text/x-python",
   "name": "python",
   "nbconvert_exporter": "python",
   "pygments_lexer": "ipython3",
   "version": "3.11.0"
  }
 },
 "nbformat": 4,
 "nbformat_minor": 4
}
