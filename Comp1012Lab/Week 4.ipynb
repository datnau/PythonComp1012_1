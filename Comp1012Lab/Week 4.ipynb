{
 "cells": [
  {
   "cell_type": "code",
   "execution_count": null,
   "metadata": {},
   "outputs": [],
   "source": [
    "n = input(\"Enter hello: \")\n",
    "\n",
    "while n!=\"Hello\":\n",
    "    n=input(\"Enter hello again: \")"
   ]
  },
  {
   "cell_type": "code",
   "execution_count": null,
   "metadata": {},
   "outputs": [],
   "source": [
    "n = input(\"Enter hello: \")\n",
    "\n",
    "while n.strip(\"Hello\")!=\"Hello\":\n",
    "    n=input(\"Enter hello again: \")"
   ]
  },
  {
   "cell_type": "code",
   "execution_count": 2,
   "metadata": {},
   "outputs": [
    {
     "name": "stdout",
     "output_type": "stream",
     "text": [
      "inside if\n"
     ]
    }
   ],
   "source": [
    "a = 10\n",
    "if (a==10):\n",
    "    print(\"inside if\")\n",
    "elif (a<10):\n",
    "    print(\"inside if2\")\n",
    "elif (a>10):\n",
    "    print(\"inside if3\")\n",
    "else:\n",
    "    print(\"inside else\")"
   ]
  },
  {
   "cell_type": "code",
   "execution_count": 35,
   "metadata": {},
   "outputs": [
    {
     "name": "stdout",
     "output_type": "stream",
     "text": [
      "10\n"
     ]
    }
   ],
   "source": [
    "i=2\n",
    "while True:\n",
    "    i+=1\n",
    "    if(10<=i<=15):\n",
    "       print(i)\n",
    "    if (i<10):\n",
    "        continue\n",
    "    else:\n",
    "        break"
   ]
  },
  {
   "cell_type": "code",
   "execution_count": 52,
   "metadata": {},
   "outputs": [
    {
     "name": "stdout",
     "output_type": "stream",
     "text": [
      "6\n",
      "2\n",
      "2\n",
      "True\n",
      "True\n"
     ]
    }
   ],
   "source": [
    "mylist = [1,2,\"Hello\",3,True,12.6]\n",
    "\n",
    "print(len(mylist))\n",
    "\n",
    "print(mylist[1])\n",
    "print(mylist[-5])\n",
    "\n",
    "print(mylist[4])\n",
    "print(mylist[-2])"
   ]
  },
  {
   "cell_type": "code",
   "execution_count": 121,
   "metadata": {},
   "outputs": [
    {
     "name": "stdout",
     "output_type": "stream",
     "text": [
      "5\n",
      "True\n",
      "[5, 7, 9, 99, 'Hello', 19]\n"
     ]
    }
   ],
   "source": [
    "a = [5,7,9]\n",
    "\n",
    "a.append(99)#add one elemet at the end of the list \n",
    "a.append('Hello')\n",
    "a.insert(2,1000)\n",
    "a.append(19)\n",
    "del a[2] #delete the element in the second slot\n",
    "print(a.index(19)) #the position of \"19\" in the list\n",
    "print(5 in a)#check if the element appear in the list\n",
    "print(a)\n",
    "\n"
   ]
  },
  {
   "cell_type": "code",
   "execution_count": 124,
   "metadata": {},
   "outputs": [
    {
     "name": "stdout",
     "output_type": "stream",
     "text": [
      "a []\n",
      "b [0, 0, 0, 0, 0]\n",
      "c [1, 1, 1, 1, 1, 1]\n"
     ]
    }
   ],
   "source": [
    "a = []\n",
    "b = [0]*5\n",
    "c = [1]*6\n",
    "\n",
    "print(\"a\",a)\n",
    "print(\"b\",b)\n",
    "print(\"c\",c)"
   ]
  },
  {
   "cell_type": "code",
   "execution_count": 142,
   "metadata": {},
   "outputs": [
    {
     "name": "stdout",
     "output_type": "stream",
     "text": [
      "[-20, -15, -10, -5, 0, 5, 10, 15]\n"
     ]
    }
   ],
   "source": [
    "temps = []\n",
    "start = -20\n",
    "stop = 20\n",
    "step = 5\n",
    "tempC = start\n",
    " \n",
    "while tempC < stop:\n",
    "    temps.append(tempC)\n",
    "    tempC+=step\n",
    "print(temps)"
   ]
  },
  {
   "cell_type": "code",
   "execution_count": 145,
   "metadata": {},
   "outputs": [
    {
     "name": "stdout",
     "output_type": "stream",
     "text": [
      "Average:  62.833333333333336\n"
     ]
    }
   ],
   "source": [
    "a = [90,78,45,30,100,34]\n",
    "\n",
    "length = len(a)\n",
    "b=0\n",
    "i=0\n",
    "while i<length:\n",
    "    b+=a[i]\n",
    "    i+=1\n",
    "\n",
    "average=b/length\n",
    "\n",
    "print(\"Average: \", average)\n"
   ]
  },
  {
   "cell_type": "code",
   "execution_count": 1,
   "metadata": {},
   "outputs": [
    {
     "name": "stdout",
     "output_type": "stream",
     "text": [
      "Average:  62.833333333333336\n"
     ]
    }
   ],
   "source": [
    "a = [90,78,45,30,100,34]\n",
    "\n",
    "length = len(a)\n",
    "\n",
    "average=sum(a)/len(a)\n",
    "\n",
    "print(\"Average: \", average)\n"
   ]
  },
  {
   "cell_type": "code",
   "execution_count": 2,
   "metadata": {},
   "outputs": [
    {
     "name": "stdout",
     "output_type": "stream",
     "text": [
      "Celsius\tFahrenheit\n",
      "-40 \t -40.0\n",
      "-30 \t -22.0\n",
      "-20 \t -4.0\n",
      "-10 \t 14.0\n",
      "0 \t 32.0\n",
      "10 \t 50.0\n",
      "20 \t 68.0\n",
      "30 \t 86.0\n",
      "40 \t 104.0\n"
     ]
    }
   ],
   "source": [
    "TempC=[-40,-30,-20,-10,0,10,20,30,40]\n",
    "TempF=[]\n",
    "i=0\n",
    "print(\"Celsius\\tFahrenheit\")\n",
    "while i<len(TempC):\n",
    "    \n",
    "   TempF.append((9/5)*TempC[i]+32)\n",
    "   print(TempC[i],\"\\t\",TempF[i])\n",
    "   i+=1"
   ]
  },
  {
   "cell_type": "code",
   "execution_count": 3,
   "metadata": {},
   "outputs": [
    {
     "name": "stdout",
     "output_type": "stream",
     "text": [
      "[3, 10, 8, 9]\n"
     ]
    }
   ],
   "source": [
    "a=[9,8,10,3]\n",
    "\n",
    "a.reverse()\n",
    "\n",
    "print(a)"
   ]
  },
  {
   "cell_type": "code",
   "execution_count": 9,
   "metadata": {},
   "outputs": [
    {
     "name": "stdout",
     "output_type": "stream",
     "text": [
      "[1, 3, 5, 7, 9, 11, 13, 15, 17, 19, 21, 23, 25, 27, 29, 31, 33, 35, 37, 39, 41, 43, 45, 47, 49, 51, 53, 55, 57, 59, 61, 63, 65, 67, 69, 71, 73, 75, 77, 79, 81, 83, 85, 87, 89, 91, 93, 95, 97, 99]\n"
     ]
    }
   ],
   "source": [
    "odds=[]\n",
    "number=1\n",
    "while number<=99:\n",
    "    odds.append(number)\n",
    "    number+=2\n",
    "print(odds)"
   ]
  },
  {
   "cell_type": "code",
   "execution_count": 11,
   "metadata": {},
   "outputs": [
    {
     "name": "stdout",
     "output_type": "stream",
     "text": [
      "[0, 2, 4, 6, 8, 10, 12, 14, 16, 18, 20, 22, 24, 26, 28, 30, 32, 34, 36, 38, 40, 42, 44, 46, 48, 50, 52, 54, 56, 58, 60, 62, 64, 66, 68, 70, 72, 74, 76, 78, 80, 82, 84, 86, 88, 90, 92, 94, 96, 98, 100]\n"
     ]
    }
   ],
   "source": [
    "evens=[]\n",
    "number=0\n",
    "while number<=100:\n",
    "    evens.append(number)\n",
    "    number+=2\n",
    "print(evens)"
   ]
  },
  {
   "cell_type": "code",
   "execution_count": 1,
   "metadata": {},
   "outputs": [
    {
     "name": "stdout",
     "output_type": "stream",
     "text": [
      "3\n",
      "5\n",
      "7\n",
      "9\n",
      "11\n"
     ]
    }
   ],
   "source": [
    "a = [3,5,7,9,11]\n",
    "\n",
    "for i in a:\n",
    "    print(i)"
   ]
  },
  {
   "cell_type": "code",
   "execution_count": 4,
   "metadata": {},
   "outputs": [
    {
     "name": "stdout",
     "output_type": "stream",
     "text": [
      "Celsius\tFahrenheit\n",
      "-40 \t -40.0\n",
      "-30 \t -22.0\n",
      "-20 \t -4.0\n",
      "-10 \t 14.0\n",
      "0 \t 32.0\n",
      "10 \t 50.0\n",
      "20 \t 68.0\n",
      "30 \t 86.0\n",
      "40 \t 104.0\n"
     ]
    }
   ],
   "source": [
    "TempC=[-40,-30,-20,-10,0,10,20,30,40]\n",
    "print(\"Celsius\\tFahrenheit\")\n",
    "for i in TempC:\n",
    "    TempF=((9/5)*i+32)\n",
    "    print(i,\"\\t\",TempF)"
   ]
  },
  {
   "cell_type": "code",
   "execution_count": 10,
   "metadata": {},
   "outputs": [
    {
     "name": "stdout",
     "output_type": "stream",
     "text": [
      "T\n",
      "h\n",
      "a\n",
      "n\n",
      "h\n",
      "D\n",
      "a\n",
      "t\n",
      "T%h%a%n%h%D%a%t%"
     ]
    }
   ],
   "source": [
    "myname =\"ThanhDat\"\n",
    "\n",
    "for i in myname:\n",
    "    print(i,end=\"\\n\")\n",
    "    \n",
    "for i in myname:\n",
    "    print(i,end=\"%\")"
   ]
  },
  {
   "cell_type": "code",
   "execution_count": 43,
   "metadata": {},
   "outputs": [
    {
     "name": "stdout",
     "output_type": "stream",
     "text": [
      "[1, 3, 5, 7, 9, 11, 13]\n",
      "[]\n"
     ]
    }
   ],
   "source": [
    "numbers = list(range(1, 15, 2))\n",
    "print(numbers)\n",
    "print(numbers[-1:4:1])"
   ]
  }
 ],
 "metadata": {
  "kernelspec": {
   "display_name": "Python 3 (ipykernel)",
   "language": "python",
   "name": "python3"
  },
  "language_info": {
   "codemirror_mode": {
    "name": "ipython",
    "version": 3
   },
   "file_extension": ".py",
   "mimetype": "text/x-python",
   "name": "python",
   "nbconvert_exporter": "python",
   "pygments_lexer": "ipython3",
   "version": "3.11.0"
  }
 },
 "nbformat": 4,
 "nbformat_minor": 4
}
