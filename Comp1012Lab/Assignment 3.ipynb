{
 "cells": [
  {
   "cell_type": "code",
   "execution_count": null,
   "metadata": {
    "jupyter": {
     "source_hidden": true
    },
    "scrolled": true
   },
   "outputs": [
    {
     "name": "stdout",
     "output_type": "stream",
     "text": [
      "\n",
      "--------------------------------------------------\n",
      "\n"
     ]
    },
    {
     "name": "stdin",
     "output_type": "stream",
     "text": [
      "Enter the number of intervals (0 to quit):  12.2\n"
     ]
    },
    {
     "name": "stdout",
     "output_type": "stream",
     "text": [
      "Invalid Input! Please enter a valid integer.\n"
     ]
    },
    {
     "name": "stdin",
     "output_type": "stream",
     "text": [
      "Enter the number of intervals (0 to quit):  \n"
     ]
    },
    {
     "name": "stdout",
     "output_type": "stream",
     "text": [
      "Missing input!\n"
     ]
    },
    {
     "name": "stdin",
     "output_type": "stream",
     "text": [
      "Enter the number of intervals (0 to quit):  \n"
     ]
    },
    {
     "name": "stdout",
     "output_type": "stream",
     "text": [
      "Missing input!\n"
     ]
    },
    {
     "name": "stdin",
     "output_type": "stream",
     "text": [
      "Enter the number of intervals (0 to quit):  Hello\n"
     ]
    },
    {
     "name": "stdout",
     "output_type": "stream",
     "text": [
      "Invalid Input! Please enter a valid integer.\n"
     ]
    },
    {
     "name": "stdin",
     "output_type": "stream",
     "text": [
      "Enter the number of intervals (0 to quit):  1000\n"
     ]
    },
    {
     "name": "stdout",
     "output_type": "stream",
     "text": [
      "The approximate area of the heart is -3.25865909998029e+00 cm^2\n",
      "Compute time using lists is 0.001 seconds.\n"
     ]
    }
   ],
   "source": [
    "# DatNguyenA3Q1.py\n",
    "#\n",
    "# Course: COMP 1012\n",
    "# Instructor: Abolfazl Babaei\n",
    "# Assignment: 3 Question 1\n",
    "# Author: Thanh Dat Nguyen\n",
    "# Version: 2023/11/12\n",
    "#\n",
    "# Purpose: \n",
    "# var1 - the use / meaning of each variable in the program\n",
    "from time import ctime\n",
    "from math import sqrt\n",
    "print('\\n--------------------------------------------------\\n')\n",
    "\n",
    "import timeit\n",
    "\n",
    "def getNonNegativeInt(prompt):\n",
    "    while True:\n",
    "        number = input(prompt).strip()\n",
    "        if number != '':\n",
    "            try:\n",
    "                number = int(number)\n",
    "                if number >= 0:\n",
    "                    break\n",
    "                else:\n",
    "                    print(number, 'must not be negative!')\n",
    "            except ValueError:\n",
    "                print('must be an integer!')\n",
    "        else:\n",
    "            print('Missing input!')\n",
    "    return number\n",
    "\n",
    "def computexcoordinates(width, intervals):\n",
    "    step = width / intervals\n",
    "    return [-width/2 + i * step for i in range(intervals + 1)]\n",
    "\n",
    "def computeYcoordinates(xCoords):\n",
    "    y1 = [sqrt(1 - (abs(x) - 1)**2) for x in xCoords]\n",
    "    y2 = [-3 * sqrt(1 - sqrt(abs(x)/2)) for x in xCoords]\n",
    "    return y1, y2\n",
    "\n",
    "def computeArea(intervals, width):\n",
    "    xCoords = computexcoordinates(width, intervals)\n",
    "    y1, y2 = computeYcoordinates(xCoords)\n",
    "    area = 0.5 * sum((y1[i] + y1[i+1]) * (xCoords[i+1] - xCoords[i]) + (y2[i] + y2[i+1]) * (xCoords[i+1] - xCoords[i]) for i in range(intervals))\n",
    "    return area\n",
    "\n",
    "def displayTerminationMessage():\n",
    "    print(\"\"\"\n",
    "    Programmed by Thanh Dat Nguyen\n",
    "    Date: %s\n",
    "    End of processing.\"\"\" % ctime())\n",
    "\n",
    "width = 4\n",
    "intervals = getNonNegativeInt(\"Enter the number of intervals (0 to quit): \")\n",
    "while intervals != 0:\n",
    "    t = timeit.Timer('computeArea(intervals, width)', globals=globals())\n",
    "    computeTime = t.timeit(1)\n",
    "    print(\"The approximate area of the heart is %.14e cm^2\" % computeArea(intervals, width))\n",
    "    print(\"Compute time using lists is %.3f seconds.\" % computeTime)\n",
    "    intervals = getNonNegativeInt(\"Enter the number of intervals (0 to quit): \")\n",
    "displayTerminationMessage()\n"
   ]
  },
  {
   "cell_type": "code",
   "execution_count": null,
   "metadata": {},
   "outputs": [],
   "source": []
  },
  {
   "cell_type": "code",
   "execution_count": null,
   "metadata": {},
   "outputs": [],
   "source": []
  }
 ],
 "metadata": {
  "kernelspec": {
   "display_name": "Python 3 (ipykernel)",
   "language": "python",
   "name": "python3"
  },
  "language_info": {
   "codemirror_mode": {
    "name": "ipython",
    "version": 3
   },
   "file_extension": ".py",
   "mimetype": "text/x-python",
   "name": "python",
   "nbconvert_exporter": "python",
   "pygments_lexer": "ipython3",
   "version": "3.11.0"
  }
 },
 "nbformat": 4,
 "nbformat_minor": 4
}
