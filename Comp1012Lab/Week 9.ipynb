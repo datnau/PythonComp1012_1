{
 "cells": [
  {
   "cell_type": "code",
   "execution_count": 13,
   "metadata": {},
   "outputs": [
    {
     "name": "stdout",
     "output_type": "stream",
     "text": [
      "[2 2 2 2]\n",
      "[2. 2. 2. 2.]\n"
     ]
    }
   ],
   "source": [
    "import numpy as np\n",
    "def two(x):\n",
    "    \"\"\"(float, int) -> (float, int); array -> \n",
    "array\"\"\"\n",
    "    if isinstance(x, (float, int)):\n",
    "        result = 2\n",
    "    elif isinstance(x, np.ndarray):\n",
    "        result = np.zeros(x.shape, x.dtype) + 2\n",
    "    else:\n",
    "        result = 'ERROR: Invalid type!'\n",
    "    return result\n",
    "print(two(np.array([1,2,3,45])))\n",
    "print(two(np.array([1,2,3.5,45])))"
   ]
  },
  {
   "cell_type": "code",
   "execution_count": null,
   "metadata": {},
   "outputs": [],
   "source": [
    "import numpy as np\n"
   ]
  },
  {
   "cell_type": "code",
   "execution_count": 133,
   "metadata": {},
   "outputs": [
    {
     "name": "stdout",
     "output_type": "stream",
     "text": [
      "[[ 1.  2.  3.  4.]\n",
      " [ 5.  6.  7.  8.]\n",
      " [ 9. 10. 11. 12.]]\n",
      "(3, 4)\n",
      "12\n",
      "3\n"
     ]
    }
   ],
   "source": [
    "import numpy as np\n",
    "ar = np.linspace(1,12,12).reshape(3,4`)\n",
    "print(ar)\n",
    "print(ar.shape)\n",
    "print(ar.size)\n",
    "print(len(ar)) \n",
    "\n",
    "                                  "
   ]
  }
 ],
 "metadata": {
  "kernelspec": {
   "display_name": "Python 3 (ipykernel)",
   "language": "python",
   "name": "python3"
  },
  "language_info": {
   "codemirror_mode": {
    "name": "ipython",
    "version": 3
   },
   "file_extension": ".py",
   "mimetype": "text/x-python",
   "name": "python",
   "nbconvert_exporter": "python",
   "pygments_lexer": "ipython3",
   "version": "3.11.0"
  }
 },
 "nbformat": 4,
 "nbformat_minor": 4
}
