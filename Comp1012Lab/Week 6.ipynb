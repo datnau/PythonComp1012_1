{
 "cells": [
  {
   "cell_type": "code",
   "execution_count": 2,
   "metadata": {},
   "outputs": [
    {
     "name": "stdout",
     "output_type": "stream",
     "text": [
      "Enter a number:Gaergff\n"
     ]
    },
    {
     "ename": "NameError",
     "evalue": "name 'Gaergff' is not defined",
     "output_type": "error",
     "traceback": [
      "\u001b[0;31m---------------------------------------------------------------------------\u001b[0m",
      "\u001b[0;31mNameError\u001b[0m                                 Traceback (most recent call last)",
      "Cell \u001b[0;32mIn [2], line 1\u001b[0m\n\u001b[0;32m----> 1\u001b[0m a \u001b[38;5;241m=\u001b[39m \u001b[38;5;28;43meval\u001b[39;49m\u001b[43m(\u001b[49m\u001b[38;5;28;43minput\u001b[39;49m\u001b[43m(\u001b[49m\u001b[38;5;124;43m\"\u001b[39;49m\u001b[38;5;124;43mEnter a number:\u001b[39;49m\u001b[38;5;124;43m\"\u001b[39;49m\u001b[43m)\u001b[49m\u001b[43m)\u001b[49m\n\u001b[1;32m      2\u001b[0m \u001b[38;5;28mprint\u001b[39m(\u001b[38;5;28mtype\u001b[39m(a))\n",
      "File \u001b[0;32m<string>:1\u001b[0m\n",
      "\u001b[0;31mNameError\u001b[0m: name 'Gaergff' is not defined"
     ]
    }
   ],
   "source": [
    "a = eval(input(\"Enter a number:\"))\n",
    "print(type(a))\n",
    "#print 'str' need to enter inside the quotation \" \"\n"
   ]
  },
  {
   "cell_type": "code",
   "execution_count": 3,
   "metadata": {},
   "outputs": [
    {
     "name": "stdout",
     "output_type": "stream",
     "text": [
      "Enter a number:5\n",
      "<class 'int'>\n",
      "Enter a number:2\n",
      "<class 'int'>\n",
      "Enter a number:\"Hello\"\n",
      "<class 'str'>\n",
      "Enter a number:S\n"
     ]
    },
    {
     "ename": "NameError",
     "evalue": "name 'S' is not defined",
     "output_type": "error",
     "traceback": [
      "\u001b[0;31m---------------------------------------------------------------------------\u001b[0m",
      "\u001b[0;31mNameError\u001b[0m                                 Traceback (most recent call last)",
      "Cell \u001b[0;32mIn [3], line 3\u001b[0m\n\u001b[1;32m      1\u001b[0m \u001b[38;5;28;01mwhile\u001b[39;00m \u001b[38;5;28;01mTrue\u001b[39;00m: \n\u001b[0;32m----> 3\u001b[0m     a \u001b[38;5;241m=\u001b[39m \u001b[38;5;28;43meval\u001b[39;49m\u001b[43m(\u001b[49m\u001b[38;5;28;43minput\u001b[39;49m\u001b[43m(\u001b[49m\u001b[38;5;124;43m\"\u001b[39;49m\u001b[38;5;124;43mEnter a number:\u001b[39;49m\u001b[38;5;124;43m\"\u001b[39;49m\u001b[43m)\u001b[49m\u001b[43m)\u001b[49m\n\u001b[1;32m      4\u001b[0m     \u001b[38;5;28;01mif\u001b[39;00m a\u001b[38;5;241m==\u001b[39m\u001b[38;5;124m\"\u001b[39m\u001b[38;5;124mend\u001b[39m\u001b[38;5;124m\"\u001b[39m:\n\u001b[1;32m      5\u001b[0m         \u001b[38;5;28;01mbreak\u001b[39;00m\n",
      "File \u001b[0;32m<string>:1\u001b[0m\n",
      "\u001b[0;31mNameError\u001b[0m: name 'S' is not defined"
     ]
    }
   ],
   "source": [
    "while True: \n",
    "    \n",
    "    a = eval(input(\"Enter a number:\"))\n",
    "    if a==\"end\":\n",
    "        break\n",
    "    else:\n",
    "        print(type(a))"
   ]
  },
  {
   "cell_type": "code",
   "execution_count": 1,
   "metadata": {},
   "outputs": [
    {
     "name": "stdout",
     "output_type": "stream",
     "text": [
      "Dat\n"
     ]
    }
   ],
   "source": [
    "myname=\"     Dat      \"\n",
    "print(myname.strip())"
   ]
  },
  {
   "cell_type": "code",
   "execution_count": 4,
   "metadata": {},
   "outputs": [
    {
     "name": "stdout",
     "output_type": "stream",
     "text": [
      "Enter an integer: \n",
      "Missing input!\n"
     ]
    }
   ],
   "source": [
    "def getInt():\n",
    "    number = input('Enter an integer: ').strip()\n",
    "    if number != '':\n",
    "        number = eval(number, {}, {})\n",
    "        if type(number) is int:\n",
    "            print('%d is an integer.' % number)\n",
    "        else:\n",
    "            print(number, 'is not an integer!')\n",
    "    else:\n",
    "            print('Missing input!')\n",
    "getInt()"
   ]
  },
  {
   "cell_type": "code",
   "execution_count": null,
   "metadata": {},
   "outputs": [],
   "source": []
  },
  {
   "cell_type": "code",
   "execution_count": 5,
   "metadata": {},
   "outputs": [
    {
     "name": "stdout",
     "output_type": "stream",
     "text": [
      "Enter an integer: 5\n",
      "5\n"
     ]
    }
   ],
   "source": [
    "def getInt(prompt):\n",
    "    while True:\n",
    "        number = input(prompt).strip()\n",
    "        if number != '':\n",
    "            try:\n",
    "                number = eval(number, {},{})\n",
    "            except: # handle the error\n",
    "                print('Invalid input!')\n",
    "            else: # no error, do this\n",
    "                if type(number) is int:\n",
    "                    break\n",
    "                else:\n",
    "                    print(number, 'is not an integer!')\n",
    "        else:\n",
    "            print('Missing input!')\n",
    "    return number\n",
    "print(getInt('Enter an integer: '))"
   ]
  },
  {
   "cell_type": "code",
   "execution_count": 6,
   "metadata": {},
   "outputs": [
    {
     "ename": "IndentationError",
     "evalue": "expected an indented block after function definition on line 1 (3907859257.py, line 2)",
     "output_type": "error",
     "traceback": [
      "\u001b[0;36m  Cell \u001b[0;32mIn [6], line 2\u001b[0;36m\u001b[0m\n\u001b[0;31m    while True:\u001b[0m\n\u001b[0m    ^\u001b[0m\n\u001b[0;31mIndentationError\u001b[0m\u001b[0;31m:\u001b[0m expected an indented block after function definition on line 1\n"
     ]
    }
   ],
   "source": [
    "def getInteger(prompt):\n",
    "    while True:\n",
    "        number = input(prompt).strip()\n",
    "        if number != '':\n",
    "            try:\n",
    "                number = eval(number, {}, {})\n",
    "except:\n",
    "print(number, 'is not valid!')\n",
    "else:\n",
    "if type(number) is int:\n",
    "break\n",
    "else:\n",
    "print(number, 'is not an integer!')\n",
    "else:\n",
    "break\n",
    "return number\n",
    "14\n",
    "def displayList(heading, theList):\n",
    "print('\\n%s' % heading)\n",
    "for element in theList:\n",
    "print(element)\n",
    "print('There are %d elements in the list.' %\n",
    "len(theList))\n",
    "def displayTerminationMessage():\n",
    "print('''\n",
    "Programmed by Stew Dent.\n",
    "Date: %s\n",
    "End of processing.''' % ctime())"
   ]
  },
  {
   "cell_type": "code",
   "execution_count": null,
   "metadata": {},
   "outputs": [],
   "source": [
    "from time import ctime\n",
    "\n",
    "def getBoolean(prompt):\n",
    "    # prompt - the prompt to display to the user\n",
    "    # data   - the input from the user\n",
    "    # result - the return value: True if user enters yes and\n",
    "    #          False if user enters no\n",
    "    while True:\n",
    "        data = input(prompt).strip()\n",
    "        data = data[0]\n",
    "        if data == 'y' or data == 'Y':\n",
    "            result = True\n",
    "            break\n",
    "        elif data == 'n' or data == 'N':\n",
    "            result = False\n",
    "            break\n",
    "        else:\n",
    "            print(data, 'is not a valid response!')\n",
    "    return result\n",
    "\n",
    "\n",
    "def getValidInt(prompt, minX):\n",
    "    while True:\n",
    "        number = input(prompt).strip()\n",
    "        if number != '':\n",
    "            try:\n",
    "                number = eval(number, {}, {})\n",
    "            except:  # handle the error\n",
    "                print('Invalid input!')\n",
    "            else:    # no error, do this\n",
    "                if type(number) is int:\n",
    "                    \n",
    "                    if number % 2 == 1:\n",
    "                        if number >= minX:\n",
    "                            break\n",
    "                        else:\n",
    "                            print('%d is not greater than %d!' %\n",
    "                                 (number, minX-1))\n",
    "                    else:\n",
    "                        print('%d is not odd!' % number)\n",
    "                else:\n",
    "                    print(number, 'is not an integer!')\n",
    "        else:\n",
    "            print('Missing input!')\n",
    "    return number\n",
    "\n",
    "\n",
    "\n",
    "def drawX(size):\n",
    "    \"\"\" size of x\n",
    "    Draw an X in size by size grid.\n",
    "    size - the size of the grid\n",
    "    \"\"\"\n",
    "    # indices - the valid row and column indicies\n",
    "    # row     - the current column index\n",
    "    # column  - the current column index\n",
    "    \n",
    "    indices = range(size)\n",
    "    for row in indices:\n",
    "        for column in indices:\n",
    "            if row == column or row + column == size - 1:\n",
    "                print('*', end='')\n",
    "            else:\n",
    "                print(' ', end='')\n",
    "        print()  # for next print to start on a new line\n",
    "\n",
    "def main():\n",
    "    \"\"\"\n",
    "    The main function. \"\"\"\n",
    "    # prompt    - the prompt to dispay to the user\n",
    "    # minX      - the minimum size of an X to draw\n",
    "    # playAgain - prompt for playAgain question\n",
    "    # drawAnX   - true if another X is to be drawn\n",
    "    print('\\n' + '-' * 80)\n",
    "    prompt = 'Enter the size of the X (odd integer > 2): '\n",
    "    playAgain = 'Draw another X? (Y/N): '\n",
    "    minX = 3\n",
    "    drawAnX = True\n",
    "    while drawAnX:\n",
    "        drawX(getValidInt(prompt, minX))\n",
    "        drawAnX = getBoolean(playAgain)\n",
    "    print(\"\"\"\n",
    "Programmed by Stew Dent.\n",
    "Date: %s.\n",
    "End of processing.\"\"\" % ctime())\n",
    "\n",
    "main()"
   ]
  }
 ],
 "metadata": {
  "kernelspec": {
   "display_name": "Python 3 (ipykernel)",
   "language": "python",
   "name": "python3"
  },
  "language_info": {
   "codemirror_mode": {
    "name": "ipython",
    "version": 3
   },
   "file_extension": ".py",
   "mimetype": "text/x-python",
   "name": "python",
   "nbconvert_exporter": "python",
   "pygments_lexer": "ipython3",
   "version": "3.11.0"
  }
 },
 "nbformat": 4,
 "nbformat_minor": 2
}
