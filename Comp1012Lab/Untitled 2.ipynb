{
 "cells": [
  {
   "cell_type": "code",
   "execution_count": 21,
   "metadata": {},
   "outputs": [
    {
     "name": "stdout",
     "output_type": "stream",
     "text": [
      "Enter the initial velocity: 5\n",
      "Enter the initial height of the ball: 1\n",
      "Enter the angle relative to the x axis: 60\n",
      "Enter the horizontal position: .5\n",
      "\n",
      "\n",
      "Gravity = 9.80 m/s^2\n",
      "v0 =  5.0 m/s\n",
      "y0 =  60.0 m\n",
      "theta = 1 degrees\n",
      "x = 0.5 m\n",
      "\n",
      "The position of the ball is (0.50,1.106001)\n",
      "\n",
      "Programmed by Thanh Dat\n",
      "Date: Wed Sep 20 00:59:38 2023\n",
      "End of processing. \n",
      "\n"
     ]
    }
   ],
   "source": [
    "#Trajectory of a Ball\n",
    "\n",
    "from time import ctime\n",
    "from math import pi,tan,cos,sqrt\n",
    "\n",
    "g = 9.8 \n",
    "v0 = float(input(\"Enter the initial velocity: \"))\n",
    "y0 = float(input(\"Enter the initial height of the ball: \"))\n",
    "theta = float(input(\"Enter the angle relative to the x axis: \"))\n",
    "x = float(input(\"Enter the horizontal position: \"))\n",
    "print(\"\\n\")\n",
    "print(\"\"\"Gravity = %.2f m/s^2\n",
    "v0 =  %.1f m/s\n",
    "y0 =  %.1f m\n",
    "theta = %d degrees\n",
    "x = %.1f m\n",
    "\"\"\"%(g,v0,theta,y0,x))\n",
    "\n",
    "y = x * tan(theta) - 1 / (2*v0**2)*g*x**2/cos(theta)**2 + y0\n",
    "\n",
    "print(\"\"\"The position of the ball is (%.2f,%4f)\"\"\"%(x,y) )\n",
    "\n",
    "print(\"\"\"\n",
    "Programmed by Thanh Dat\n",
    "Date: %s\n",
    "End of processing. \n",
    "\"\"\"%ctime())\n"
   ]
  },
  {
   "cell_type": "code",
   "execution_count": null,
   "metadata": {},
   "outputs": [],
   "source": []
  }
 ],
 "metadata": {
  "kernelspec": {
   "display_name": "Python 3 (ipykernel)",
   "language": "python",
   "name": "python3"
  },
  "language_info": {
   "codemirror_mode": {
    "name": "ipython",
    "version": 3
   },
   "file_extension": ".py",
   "mimetype": "text/x-python",
   "name": "python",
   "nbconvert_exporter": "python",
   "pygments_lexer": "ipython3",
   "version": "3.11.0"
  }
 },
 "nbformat": 4,
 "nbformat_minor": 4
}
