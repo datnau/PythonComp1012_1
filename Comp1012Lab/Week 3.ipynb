{
 "cells": [
  {
   "cell_type": "code",
   "execution_count": 16,
   "metadata": {},
   "outputs": [
    {
     "name": "stdout",
     "output_type": "stream",
     "text": [
      "<class 'complex'>\n",
      "a+b:  (10+9j)\n",
      "a-b:  (-2-3j)\n",
      "a*b:  (6+42j)\n",
      "a/b:  (0.5833333333333334-0.08333333333333333j)\n"
     ]
    }
   ],
   "source": [
    "a = 4 +3j\n",
    "b = 6 + 6j\n",
    "c = 2 + 1j * 5\n",
    "print(type(a))\n",
    "print(\"a+b: \", a + b)\n",
    "print(\"a-b: \", a - b)\n",
    "print(\"a*b: \", a * b)\n",
    "print(\"a/b: \", a / b)"
   ]
  },
  {
   "cell_type": "code",
   "execution_count": 19,
   "metadata": {},
   "outputs": [
    {
     "name": "stdout",
     "output_type": "stream",
     "text": [
      "(-7.619231720321411-6.5481200409110025j)\n",
      "(-6.580663040551157+7.5815527427465454j)\n"
     ]
    }
   ],
   "source": [
    "from cmath import sin,cos\n",
    "\n",
    "a = 4 + 3j\n",
    "\n",
    "print(sin(a))\n",
    "print(cos(a))"
   ]
  },
  {
   "cell_type": "code",
   "execution_count": 6,
   "metadata": {},
   "outputs": [
    {
     "name": "stdout",
     "output_type": "stream",
     "text": [
      "Delta:  4j\n",
      "X1:  (-1.4644660940672622+3.5355339059327373j)\n",
      "X2:  (-8.535533905932738-3.5355339059327373j)\n"
     ]
    }
   ],
   "source": [
    "from cmath import sin,cos,sqrt\n",
    "a = 5\n",
    "b = 2\n",
    "c = 1\n",
    "delta = sqrt(b**2-4*a*c)\n",
    "X1 = (-b + sqrt(delta))/2*a\n",
    "X2 = (-b - sqrt(delta))/2*a\n",
    "print(\"Delta: \", delta)\n",
    "print(\"X1: \", X1)\n",
    "print(\"X2: \", X2)"
   ]
  },
  {
   "cell_type": "code",
   "execution_count": 1,
   "metadata": {},
   "outputs": [
    {
     "name": "stdout",
     "output_type": "stream",
     "text": [
      "Enter the initial velocity: 5\n",
      "Enter the initial height of the ball: 6\n",
      "Enter the angle relative to the x axis: 7\n",
      "Enter the horizontal position: 8\n",
      "\n",
      "\n",
      "Gravity = 9.80 m/s^2\n",
      "v0 =  5.0 m/s\n",
      "y0 =  7.0 m\n",
      "theta = 6 degrees\n",
      "x = 8.0 m\n",
      "\n",
      "The position of the ball is (8.00,-9.098601)\n",
      "\n",
      "Programmed by Thanh Dat\n",
      "Date: Sat Sep 23 21:38:41 2023\n",
      "End of processing. \n",
      "\n"
     ]
    }
   ],
   "source": [
    "#Trajectory of a Ball\n",
    "\n",
    "from time import ctime\n",
    "from math import pi,tan,cos,sqrt\n",
    "\n",
    "g = 9.8 \n",
    "v0 = float(input(\"Enter the initial velocity: \"))\n",
    "y0 = float(input(\"Enter the initial height of the ball: \"))\n",
    "theta = float(input(\"Enter the angle relative to the x axis: \"))\n",
    "x = float(input(\"Enter the horizontal position: \"))\n",
    "print(\"\\n\")\n",
    "print(\"\"\"Gravity = %.2f m/s^2\n",
    "v0 =  %.1f m/s\n",
    "y0 =  %.1f m\n",
    "theta = %d degrees\n",
    "x = %.1f m\n",
    "\"\"\"%(g,v0,theta,y0,x))\n",
    "\n",
    "y = x * tan(theta) - 1 / (2*v0**2)*g*x**2/cos(theta)**2 + y0\n",
    "\n",
    "print(\"\"\"The position of the ball is (%.2f,%4f)\"\"\"%(x,y) )\n",
    "\n",
    "print(\"\"\"\n",
    "Programmed by Thanh Dat\n",
    "Date: %s\n",
    "End of processing. \n",
    "\"\"\"%ctime())\n",
    "O"
   ]
  },
  {
   "cell_type": "code",
   "execution_count": null,
   "metadata": {},
   "outputs": [],
   "source": [
    "start = -40\n",
    "stop = 40\n",
    "step = 5.\n",
    "tempc = start\n",
    "print(\"Fahrenheit\\tCelcius\")\n",
    "while tempc <= stop:\n",
    "    fahrenheit=(9/5)*tempc+32\n",
    "    print(\"%.2f\\t%.2f\"%(tempc, fahrenheit))\n",
    "    tempc+=5"
   ]
  },
  {
   "cell_type": "code",
   "execution_count": null,
   "metadata": {},
   "outputs": [],
   "source": [
    "a = 10\n",
    "b = 20\n",
    "print(a == b)\n",
    "print(a != b)\n",
    "print(a < b)\n",
    "print(a <= b)\n",
    "print(a > b)\n",
    "print(a >= b)\n",
    "print(a and b)\n",
    "\n"
   ]
  },
  {
   "cell_type": "code",
   "execution_count": null,
   "metadata": {},
   "outputs": [],
   "source": [
    "celcius = 20\n",
    "fahrenheit = (9/5)*celcius + 32\n",
    "print(\"Fahrenheit = \", fahrenheit,\"\\t\", \"celcius =\", celcius)\n",
    "print(\"Fahrenheit =\", fahrenheit,\"\\t\", \"celcius =\", celcius)"
   ]
  },
  {
   "cell_type": "code",
   "execution_count": null,
   "metadata": {},
   "outputs": [],
   "source": [
    "degree = 40/3\n",
    "print(\"\"\"Degree is: %.2f \"\"\"%(degree))"
   ]
  },
  {
   "cell_type": "code",
   "execution_count": null,
   "metadata": {},
   "outputs": [],
   "source": [
    "a = 10\n",
    "b = 5\n",
    "if (a>b):\n",
    "    print(\"Bigger\")\n",
    "elif(a==b):\n",
    "    print(\"Equal\")\n",
    "elif(a<b):\n",
    "    print(\"Smaller\")\n",
    "else:\n",
    "    print(\"inside else\")\n",
    "print(\"end of program\")"
   ]
  },
  {
   "cell_type": "code",
   "execution_count": null,
   "metadata": {},
   "outputs": [],
   "source": []
  }
 ],
 "metadata": {
  "kernelspec": {
   "display_name": "Python 3 (ipykernel)",
   "language": "python",
   "name": "python3"
  },
  "language_info": {
   "codemirror_mode": {
    "name": "ipython",
    "version": 3
   },
   "file_extension": ".py",
   "mimetype": "text/x-python",
   "name": "python",
   "nbconvert_exporter": "python",
   "pygments_lexer": "ipython3",
   "version": "3.11.0"
  }
 },
 "nbformat": 4,
 "nbformat_minor": 2
}
